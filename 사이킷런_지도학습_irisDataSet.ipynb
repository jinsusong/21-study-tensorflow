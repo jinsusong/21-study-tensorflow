{
  "nbformat": 4,
  "nbformat_minor": 0,
  "metadata": {
    "colab": {
      "name": "tensorflow.ipynb",
      "private_outputs": true,
      "provenance": [],
      "authorship_tag": "ABX9TyO/qyKKvqZ4UrzdpSN3486L",
      "include_colab_link": true
    },
    "kernelspec": {
      "name": "python3",
      "display_name": "Python 3"
    },
    "language_info": {
      "name": "python"
    }
  },
  "cells": [
    {
      "cell_type": "markdown",
      "metadata": {
        "id": "view-in-github",
        "colab_type": "text"
      },
      "source": [
        "<a href=\"https://colab.research.google.com/github/jinsusong/21-study-tensorflow/blob/main/%EC%82%AC%EC%9D%B4%ED%82%B7%EB%9F%B0_%EC%A7%80%EB%8F%84%ED%95%99%EC%8A%B5_irisDataSet.ipynb\" target=\"_parent\"><img src=\"https://colab.research.google.com/assets/colab-badge.svg\" alt=\"Open In Colab\"/></a>"
      ]
    },
    {
      "cell_type": "markdown",
      "metadata": {
        "id": "M_O0zwVtPDOy"
      },
      "source": [
        "# 텐서플로2와 머신러닝으로 시작하는 자연어 처리 \n",
        "## 로지스틱 회귀부터 BERT와 GPT2 까지\n"
      ]
    },
    {
      "cell_type": "markdown",
      "metadata": {
        "id": "QWVG4MK3S73M"
      },
      "source": [
        "사이킷런"
      ]
    },
    {
      "cell_type": "markdown",
      "metadata": {
        "id": "ysxK8bJ-YgNe"
      },
      "source": [
        "### 기본 패키지"
      ]
    },
    {
      "cell_type": "markdown",
      "metadata": {
        "id": "RRFl_d7nYgNe"
      },
      "source": [
        "다음에 소개하는 패키지는 머신러닝 뿐 아니라 모든 종류의 데이터 분석 업무에 공통적으로 사용된다. 본 교재의 코드는 항상 이 패키지들을 임포트하고 있다고 가정한다. 자주 사용하는 패키지이므로 짧은 별명(alias)으로 임포트하여 사용하는 경우가 많다."
      ]
    },
    {
      "cell_type": "markdown",
      "metadata": {
        "school_cell_uuid": "8fab59c79c6d4856b8459945d74907e7",
        "id": "2ExWzrbIYgNe"
      },
      "source": [
        "#### numpy 패키지"
      ]
    },
    {
      "cell_type": "markdown",
      "metadata": {
        "id": "N0OOn6cjYgNf"
      },
      "source": [
        "numpy(\"넘파이\"라고 읽는다) 패키지는 파이썬에서 수치 해석, 특히 선형대수 계산 기능을 제공한다. 자료형이 고정된 다차원 배열 클래스(n-dimensional array)와 벡터화 연산(vectorized operation)을 지원하며 수학 연산에서 가장 기본적이고 중요한 패키지다"
      ]
    },
    {
      "cell_type": "markdown",
      "metadata": {
        "id": "xrHbD2eGYgNf"
      },
      "source": [
        "\n",
        "pip install numpy\n",
        "import numpy as np"
      ]
    },
    {
      "cell_type": "markdown",
      "metadata": {
        "school_cell_uuid": "8fab59c79c6d4856b8459945d74907e7",
        "id": "Qnan6O34YgNg"
      },
      "source": [
        "#### scipy 패키지"
      ]
    },
    {
      "cell_type": "markdown",
      "metadata": {
        "id": "GPX1MWBWYgNg"
      },
      "source": [
        "scipy(\"사이파이\"라고 읽는다) 패키지는 고급 수학 함수, 수치적 미적분, 미분 방정식 계산, 최적화, 신호 처리 등에 사용하는 다양한 과학 기술 계산 기능을 제공한다."
      ]
    },
    {
      "cell_type": "markdown",
      "metadata": {
        "id": "26Q7m-qhYgNh"
      },
      "source": [
        "\n",
        "pip install scip\n",
        "import scipy as sp"
      ]
    },
    {
      "cell_type": "code",
      "metadata": {
        "id": "fT6tLonkY2gx"
      },
      "source": [
        "pip install pandas"
      ],
      "execution_count": null,
      "outputs": []
    },
    {
      "cell_type": "code",
      "metadata": {
        "id": "l7otA8iaZhuH"
      },
      "source": [
        "pip install seaborn"
      ],
      "execution_count": null,
      "outputs": []
    },
    {
      "cell_type": "code",
      "metadata": {
        "id": "KWpa-6mgZHAW"
      },
      "source": [
        "import numpy as np\n",
        "import scipy as sp\n",
        "import pandas as pd\n",
        "import matplotlib.pylab as plt\n",
        "import seaborn as sns"
      ],
      "execution_count": null,
      "outputs": []
    },
    {
      "cell_type": "code",
      "metadata": {
        "id": "h5700NIuZd1n"
      },
      "source": [
        "import sklearn\n",
        "sklearn.__version__"
      ],
      "execution_count": null,
      "outputs": []
    },
    {
      "cell_type": "code",
      "metadata": {
        "id": "xQbmcsDlZ5FW"
      },
      "source": [
        "from sklearn.datasets import load_iris"
      ],
      "execution_count": null,
      "outputs": []
    },
    {
      "cell_type": "code",
      "metadata": {
        "id": "Zz_zq8oGaIkG"
      },
      "source": [
        "iris_dataset = load_iris()\n",
        "print(\"iris_dataset key: {} \".format(iris_dataset.keys()))"
      ],
      "execution_count": null,
      "outputs": []
    },
    {
      "cell_type": "code",
      "metadata": {
        "id": "n7yCOHl3aLH2"
      },
      "source": [
        "print(iris_dataset['data'])\n",
        "print(\"shape of data : {}\".format(iris_dataset['data'].shape))"
      ],
      "execution_count": null,
      "outputs": []
    },
    {
      "cell_type": "code",
      "metadata": {
        "id": "cMXHsrp6aY_H"
      },
      "source": [
        "print(iris_dataset['feature_names'])"
      ],
      "execution_count": null,
      "outputs": []
    },
    {
      "cell_type": "code",
      "metadata": {
        "id": "DeonfVS_aowH"
      },
      "source": [
        "print(iris_dataset['target'])\n",
        "print(iris_dataset['target_names'])"
      ],
      "execution_count": null,
      "outputs": []
    },
    {
      "cell_type": "markdown",
      "metadata": {
        "id": "sl2Srhxka1qm"
      },
      "source": [
        "###사이킷런을 이용한 데이터 분리"
      ]
    },
    {
      "cell_type": "markdown",
      "metadata": {
        "id": "CJf2AQ4wbdC-"
      },
      "source": [
        "사이킷런을 활용해 학습 데이터와 평가 데이터로 분리 "
      ]
    },
    {
      "cell_type": "code",
      "metadata": {
        "id": "8jKRUeZwbmxz"
      },
      "source": [
        "from sklearn.model_selection import train_test_split"
      ],
      "execution_count": null,
      "outputs": []
    },
    {
      "cell_type": "markdown",
      "metadata": {
        "id": "sm1TgqAGbr53"
      },
      "source": [
        "train_test_split 함수에 학습 데이터와 라벨을 넣으면 정의한 비율로 데이터를 나눈다. \n"
      ]
    },
    {
      "cell_type": "code",
      "metadata": {
        "id": "UtEHlFnHbzBO"
      },
      "source": [
        "train_input,test_input, train_label, test_label = train_test_split(iris_dataset['data'],\n",
        "                                                                   iris_dataset['target'], test_size=0.25, random_state=42)"
      ],
      "execution_count": null,
      "outputs": []
    },
    {
      "cell_type": "markdown",
      "metadata": {
        "id": "UDO5SNUBcA7n"
      },
      "source": [
        "변수의 형태 확인하기"
      ]
    },
    {
      "cell_type": "code",
      "metadata": {
        "id": "Lp6jRZrgcQcE"
      },
      "source": [
        "print(\"shape of train_input: {}\".format(train_input.shape))\n",
        "print(\"shape of test_input: {}\".format(test_input.shape))\n",
        "print(\"shape of train_label: {}\".format(train_label.shape))\n",
        "print(\"shape of test_label: {}\".format(test_label.shape))"
      ],
      "execution_count": null,
      "outputs": []
    },
    {
      "cell_type": "markdown",
      "metadata": {
        "id": "lXMpCAddcd6n"
      },
      "source": [
        "k-최근접 이웃 분류기 만들기 "
      ]
    },
    {
      "cell_type": "code",
      "metadata": {
        "id": "pxjKT-KLdOWS"
      },
      "source": [
        "from sklearn.neighbors import KNeighborsClassifier\n",
        "knn = KNeighborsClassifier(n_neighbors = 1)"
      ],
      "execution_count": null,
      "outputs": []
    },
    {
      "cell_type": "code",
      "metadata": {
        "id": "AP3Pcz-odVqW"
      },
      "source": [
        "knn.fit(train_input, train_label)"
      ],
      "execution_count": null,
      "outputs": []
    },
    {
      "cell_type": "code",
      "metadata": {
        "id": "D0RqVYTCdjiX"
      },
      "source": [
        "KNeighborsClassifier(algorithm='auto', leaf_size=30, metric='minkowski',\n",
        "                     metric_params=None, n_jobs=1, n_neighbors=1, p=2,\n",
        "                     weights='uniform')"
      ],
      "execution_count": null,
      "outputs": []
    },
    {
      "cell_type": "markdown",
      "metadata": {
        "id": "1lXO1OOXdyZf"
      },
      "source": [
        "학습된 모델을 사용해 새로운 데이터의 라벨을 예측해보기 "
      ]
    },
    {
      "cell_type": "code",
      "metadata": {
        "id": "bYa0P-Qfd-tR"
      },
      "source": [
        "import numpy as np\n",
        "new_input = np.array([[6.1, 2.8, 4.7, 1.2]])\n"
      ],
      "execution_count": null,
      "outputs": []
    },
    {
      "cell_type": "code",
      "metadata": {
        "id": "KSFM4Z-HeGWv"
      },
      "source": [
        "knn.predict(new_input)"
      ],
      "execution_count": null,
      "outputs": []
    },
    {
      "cell_type": "markdown",
      "metadata": {
        "id": "GjTd5S9veJUP"
      },
      "source": [
        "모델 성능 측정 "
      ]
    },
    {
      "cell_type": "code",
      "metadata": {
        "id": "f5dipHnLeRG6"
      },
      "source": [
        "predict_label = knn.predict(test_input)\n",
        "print(predict_label)"
      ],
      "execution_count": null,
      "outputs": []
    },
    {
      "cell_type": "code",
      "metadata": {
        "id": "unwEFA0-eKR_"
      },
      "source": [
        "print('test accuracy { : 2f}'.format(np.mean(predict_label == test_label)))\n"
      ],
      "execution_count": null,
      "outputs": []
    },
    {
      "cell_type": "code",
      "metadata": {
        "id": "nSWfREXPeiTX"
      },
      "source": [
        ""
      ],
      "execution_count": null,
      "outputs": []
    }
  ]
}