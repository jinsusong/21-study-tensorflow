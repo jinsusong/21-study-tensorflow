{
  "nbformat": 4,
  "nbformat_minor": 0,
  "metadata": {
    "colab": {
      "name": "tensorflow.ipynb",
      "private_outputs": true,
      "provenance": [],
      "authorship_tag": "ABX9TyMrAjDUVRFX3RFtNy05ozh1",
      "include_colab_link": true
    },
    "kernelspec": {
      "name": "python3",
      "display_name": "Python 3"
    },
    "language_info": {
      "name": "python"
    },
    "accelerator": "GPU"
  },
  "cells": [
    {
      "cell_type": "markdown",
      "metadata": {
        "id": "view-in-github",
        "colab_type": "text"
      },
      "source": [
        "<a href=\"https://colab.research.google.com/github/jinsusong/21-study-tensorflow/blob/main/%EC%9E%90%EC%97%B0%EC%96%B4%20%ED%86%A0%ED%81%AC%EB%82%98%EC%9D%B4%EC%A7%95%20%EB%8F%84%EA%B5%AC%20.ipynb\" target=\"_parent\"><img src=\"https://colab.research.google.com/assets/colab-badge.svg\" alt=\"Open In Colab\"/></a>"
      ]
    },
    {
      "cell_type": "markdown",
      "metadata": {
        "id": "M_O0zwVtPDOy"
      },
      "source": [
        "# 텐서플로2와 머신러닝으로 시작하는 자연어 처리 \n",
        "## 로지스틱 회귀부터 BERT와 GPT2 까지\n"
      ]
    },
    {
      "cell_type": "markdown",
      "metadata": {
        "id": "QWVG4MK3S73M"
      },
      "source": [
        "###자연어 토크나이징 도구 "
      ]
    },
    {
      "cell_type": "markdown",
      "metadata": {
        "id": "jvSdv1fPkOZH"
      },
      "source": [
        "- 예측해야 할 입력 정보를 하나의 특정 기본 단위로 자르는 것을 토크나이징이라고 함\n",
        "1. 형태소 토크나이징\n",
        "2. 문장 토크나이징 \n"
      ]
    },
    {
      "cell_type": "markdown",
      "metadata": {
        "id": "S0Ydcq7WmCQP"
      },
      "source": [
        "### 영어 토크나이징 라이브러리 \n"
      ]
    },
    {
      "cell_type": "markdown",
      "metadata": {
        "id": "2AeygMXbmNoX"
      },
      "source": [
        " - NLTK\n",
        " - Spacy"
      ]
    },
    {
      "cell_type": "code",
      "metadata": {
        "id": "lmUhcEaQoJvf"
      },
      "source": [
        "import nltk"
      ],
      "execution_count": null,
      "outputs": []
    },
    {
      "cell_type": "markdown",
      "metadata": {
        "id": "7Oa54IJNpUkm"
      },
      "source": [
        " nltk의 경우 말뭉치(corpus)를 내려받아 연동할 수 있어야 함"
      ]
    },
    {
      "cell_type": "code",
      "metadata": {
        "id": "18CozyVWph-m"
      },
      "source": [
        "nltk.download(\"book\", quiet=True)\n",
        "from nltk.book import *"
      ],
      "execution_count": null,
      "outputs": []
    },
    {
      "cell_type": "markdown",
      "metadata": {
        "id": "yCzJk7YCp8Pn"
      },
      "source": [
        "### 단어 토크나이징 "
      ]
    },
    {
      "cell_type": "markdown",
      "metadata": {
        "id": "mX774qFgqGgr"
      },
      "source": [
        "텍스트 데이터를 각 단어를 기준으로 토크나이징\n",
        "라이브러리의 tokenize 모듈에서 word_tokencize를 불러온 후 사용 "
      ]
    },
    {
      "cell_type": "code",
      "metadata": {
        "id": "mxM9xgQpqQGV"
      },
      "source": [
        "from nltk.tokenize import word_tokenize\n",
        "sentence = \"Natural language processing( NLP ) is a subfield of computer science, information engineering, and artificial intelligence concerned with the interactions between computers and human( natural) languages, in particular how to program computers to process and analyze large amounts of natural language data.\""
      ],
      "execution_count": null,
      "outputs": []
    },
    {
      "cell_type": "code",
      "metadata": {
        "id": "Qcrohf1Nqk2P"
      },
      "source": [
        "print(word_tokenize(sentence))"
      ],
      "execution_count": null,
      "outputs": []
    },
    {
      "cell_type": "markdown",
      "metadata": {
        "id": "z8ydJWuXqoge"
      },
      "source": [
        "### 문장 단위 토크나이징 "
      ]
    },
    {
      "cell_type": "markdown",
      "metadata": {
        "id": "ZYF2dd2bqz6_"
      },
      "source": [
        "- 경우에 따라서 텍스트 데이터를 우선 단어가 아닌 문장으로 나눠야 하는 경우가 있음.\n",
        "- 데이터가 문단으로 구성돼 있어서 문단을 먼저 문장으로 나눈 후 그 결과를 다시 단어로 나눠야 하는 경우 "
      ]
    },
    {
      "cell_type": "code",
      "metadata": {
        "id": "p7qYGHVvq_ny"
      },
      "source": [
        "from nltk.tokenize import sent_tokenize\n",
        "paragraph = \"Natural language processing( NLP ) is a subfield of computer science, information engineering, and artificial intelligence concerned with the interactions between computers and human( natural) languages, in particular how to program computers to process and analyze large amounts of natural language data.\""
      ],
      "execution_count": null,
      "outputs": []
    },
    {
      "cell_type": "code",
      "metadata": {
        "id": "cdFYCYmNrI9H"
      },
      "source": [
        "print(sent_tokenize(paragraph))"
      ],
      "execution_count": null,
      "outputs": []
    },
    {
      "cell_type": "markdown",
      "metadata": {
        "id": "dIZLbMUerL4H"
      },
      "source": [
        "NLTK는 불용어 사전이 내장되어 있어 불용어 제거에도 편리함 "
      ]
    },
    {
      "cell_type": "markdown",
      "metadata": {
        "id": "9A7MNa2ureQp"
      },
      "source": [
        "### Spacy "
      ]
    },
    {
      "cell_type": "markdown",
      "metadata": {
        "id": "455VzXI2rf6j"
      },
      "source": [
        "- 상업용 목적으로 만들어짐"
      ]
    },
    {
      "cell_type": "code",
      "metadata": {
        "id": "RRxQ2kFxrkjl"
      },
      "source": [
        "import spacy\n",
        "gpu = spacy.prefer_gpu()\n",
        "print('GPU:', gpu)"
      ],
      "execution_count": null,
      "outputs": []
    },
    {
      "cell_type": "markdown",
      "metadata": {
        "id": "uMpuixOOrufm"
      },
      "source": [
        "NLTK와 마찬가지로 영어에 대한 텍스트를 전처리하려면 언어 데이터 자료도 내려받아야함.\n",
        " "
      ]
    },
    {
      "cell_type": "code",
      "metadata": {
        "id": "oxz5ZRs9r7bE"
      },
      "source": [
        "import spacy.cli\n",
        "spacy.cli.download(\"en_core_web_sm\")"
      ],
      "execution_count": null,
      "outputs": []
    },
    {
      "cell_type": "code",
      "metadata": {
        "id": "GVouu_T1sDFX"
      },
      "source": [
        "nlp = spacy.load('en')\n",
        "sentence = \"Natural language processing( NLP ) is a subfield of computer science, information engineering, and artificial intelligence concerned with the interactions between computers and human( natural) languages, in particular how to program computers to process and analyze large amounts of natural language data.\"\n",
        "doc = nlp(sentence)"
      ],
      "execution_count": null,
      "outputs": []
    },
    {
      "cell_type": "markdown",
      "metadata": {
        "id": "IQ1msajMsQt_"
      },
      "source": [
        " - 텍스트에 대해 구문 분석 객체를 반환함 \n",
        " - 이를 doc 변수에 할당 \n",
        " - doc객체를 가지고 입력한 텍스트에 대한 단어 토크나이징과 문장 토크나이징을 진행 \n",
        " "
      ]
    },
    {
      "cell_type": "code",
      "metadata": {
        "id": "19wZKd00sn9L"
      },
      "source": [
        "word_tokenized_sentence = [token.text for token in doc]\n",
        "sentence_tokenized_list = [sent.text for sent in doc.sents]\n",
        "print(word_tokenized_sentence)\n",
        "print(sentence_tokenized_list)"
      ],
      "execution_count": null,
      "outputs": []
    },
    {
      "cell_type": "markdown",
      "metadata": {
        "id": "mUYYXoEKszkf"
      },
      "source": [
        "### 한국어 토크나이징 라이브러리 "
      ]
    },
    {
      "cell_type": "markdown",
      "metadata": {
        "id": "2voMOyeYtiUN"
      },
      "source": [
        "KoNLPy : 한글 자연어 처리를 위한 오픈소스 라이브러리 \n",
        "형태소 단위에 대한 토크나이징 \n"
      ]
    },
    {
      "cell_type": "code",
      "metadata": {
        "id": "caeDPOgUxOPI"
      },
      "source": [
        "import warnings\n",
        "warnings.simplefilter(\"ignore\")\n",
        "\n",
        "import konlpy\n",
        "konlpy.__version__"
      ],
      "execution_count": null,
      "outputs": []
    },
    {
      "cell_type": "code",
      "metadata": {
        "id": "6R1xSvyKxRv_"
      },
      "source": [
        "from konlpy.tag import Mecab \n",
        "tokenizer = Mecab()\n"
      ],
      "execution_count": null,
      "outputs": []
    },
    {
      "cell_type": "markdown",
      "metadata": {
        "id": "ZIV9ITlwyIEP"
      },
      "source": [
        "형태소 분석 및 품사 태깅 "
      ]
    },
    {
      "cell_type": "markdown",
      "metadata": {
        "id": "oq5GV2RvyaPa"
      },
      "source": [
        "- 형태소 분석이란 의미를 가지는 단위를 기준으로 문장을 살펴보는 것\n",
        "- 형태소 분석기 목록\n",
        "1. Hannanum\n",
        "2. Kkma\n",
        "3. Komoran\n",
        "4. Mecab\n",
        "5. Okt(Twitter)"
      ]
    },
    {
      "cell_type": "markdown",
      "metadata": {
        "id": "K5eg5ouzy0F8"
      },
      "source": [
        "형태소 분석기 사용법은 다 비슷함 "
      ]
    },
    {
      "cell_type": "code",
      "metadata": {
        "id": "qdbI3QSIy8nD"
      },
      "source": [
        "from konlpy.corpus import kolaw\n",
        "from konlpy.corpus import kobill"
      ],
      "execution_count": null,
      "outputs": []
    },
    {
      "cell_type": "code",
      "metadata": {
        "id": "caW0Hrcty-tn"
      },
      "source": [
        "kolaw.open('constitution.txt').read()[:20]"
      ],
      "execution_count": null,
      "outputs": []
    },
    {
      "cell_type": "code",
      "metadata": {
        "id": "2rihAmePz59_"
      },
      "source": [
        "kobill.open('1809890.txt').read()"
      ],
      "execution_count": null,
      "outputs": []
    },
    {
      "cell_type": "code",
      "metadata": {
        "id": "NlBYajkT1hKf"
      },
      "source": [
        ""
      ],
      "execution_count": null,
      "outputs": []
    }
  ]
}