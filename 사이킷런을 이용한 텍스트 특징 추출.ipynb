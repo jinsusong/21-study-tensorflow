{
  "nbformat": 4,
  "nbformat_minor": 0,
  "metadata": {
    "colab": {
      "name": "tensorflow.ipynb",
      "private_outputs": true,
      "provenance": [],
      "authorship_tag": "ABX9TyNxmIiREMLnxSNuwB2nMwqX",
      "include_colab_link": true
    },
    "kernelspec": {
      "name": "python3",
      "display_name": "Python 3"
    },
    "language_info": {
      "name": "python"
    }
  },
  "cells": [
    {
      "cell_type": "markdown",
      "metadata": {
        "id": "view-in-github",
        "colab_type": "text"
      },
      "source": [
        "<a href=\"https://colab.research.google.com/github/jinsusong/21-study-tensorflow/blob/main/%EC%82%AC%EC%9D%B4%ED%82%B7%EB%9F%B0%EC%9D%84%20%EC%9D%B4%EC%9A%A9%ED%95%9C%20%ED%85%8D%EC%8A%A4%ED%8A%B8%20%ED%8A%B9%EC%A7%95%20%EC%B6%94%EC%B6%9C.ipynb\" target=\"_parent\"><img src=\"https://colab.research.google.com/assets/colab-badge.svg\" alt=\"Open In Colab\"/></a>"
      ]
    },
    {
      "cell_type": "markdown",
      "metadata": {
        "id": "M_O0zwVtPDOy"
      },
      "source": [
        "# 텐서플로2와 머신러닝으로 시작하는 자연어 처리 \n",
        "## 로지스틱 회귀부터 BERT와 GPT2 까지\n"
      ]
    },
    {
      "cell_type": "markdown",
      "metadata": {
        "id": "QWVG4MK3S73M"
      },
      "source": [
        "사이킷런을 이용한 특징 추출"
      ]
    },
    {
      "cell_type": "markdown",
      "metadata": {
        "id": "jvSdv1fPkOZH"
      },
      "source": [
        "- 텍스트 데이터에서 단어나 문장들을 어떤 특징 값으로 바꿔주는 것을 의미 \n",
        "1. CountVectorizer\n",
        "2. TfidVectorizer\n",
        "3. HashingVectorizer"
      ]
    },
    {
      "cell_type": "markdown",
      "metadata": {
        "id": "S0Ydcq7WmCQP"
      },
      "source": [
        "### CountVectorizer\n"
      ]
    },
    {
      "cell_type": "markdown",
      "metadata": {
        "id": "2AeygMXbmNoX"
      },
      "source": [
        "텍스트 데이터에서 횟수를 기준으로 특징을 추출하는 방법"
      ]
    },
    {
      "cell_type": "code",
      "metadata": {
        "id": "OsFRw_NUmTS3"
      },
      "source": [
        "from sklearn.feature_extraction.text import CountVectorizer\n"
      ],
      "execution_count": null,
      "outputs": []
    },
    {
      "cell_type": "code",
      "metadata": {
        "id": "q45Li77ymlL2"
      },
      "source": [
        "text_data =['나는 배가 고프다','내일 점심 뭐먹지','내일 공부 해야겠다.','점심 먹고 공부해야지']\n",
        "count_vectorizer =CountVectorizer()"
      ],
      "execution_count": null,
      "outputs": []
    },
    {
      "cell_type": "code",
      "metadata": {
        "id": "Ux7RB2FGmu4P"
      },
      "source": [
        "count_vectorizer.fit(text_data)\n",
        "print(count_vectorizer.vocabulary_)"
      ],
      "execution_count": null,
      "outputs": []
    },
    {
      "cell_type": "markdown",
      "metadata": {
        "id": "aL0OQ-xgm3Vm"
      },
      "source": [
        "### TfidfVectorizer"
      ]
    },
    {
      "cell_type": "code",
      "metadata": {
        "id": "BEJDavbMndN3"
      },
      "source": [
        "from sklearn.feature_extraction.text import TfidfVectorizer"
      ],
      "execution_count": null,
      "outputs": []
    },
    {
      "cell_type": "code",
      "metadata": {
        "id": "riFT2C14n2SO"
      },
      "source": [
        "text_data =['나는 배가 고프다','내일 점심 뭐먹지','내일 공부 해야겠다.','점심 먹고 공부해야지']\n",
        "tfidf_vectorizer = TfidfVectorizer()"
      ],
      "execution_count": null,
      "outputs": []
    },
    {
      "cell_type": "code",
      "metadata": {
        "id": "mU1JgC0Pn7IO"
      },
      "source": [
        "tfidf_vectorizer.fit(text_data)\n",
        "print(tfidf_vectorizer.vocabulary_)\n",
        "\n",
        "sentence = [text_data[3]] \n",
        "print(tfidf_vectorizer.transform(sentence).toarray())"
      ],
      "execution_count": null,
      "outputs": []
    },
    {
      "cell_type": "code",
      "metadata": {
        "id": "lmUhcEaQoJvf"
      },
      "source": [
        ""
      ],
      "execution_count": null,
      "outputs": []
    }
  ]
}