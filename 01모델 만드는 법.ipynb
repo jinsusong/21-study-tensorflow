{
  "nbformat": 4,
  "nbformat_minor": 0,
  "metadata": {
    "colab": {
      "name": "tensorflow.ipynb",
      "private_outputs": true,
      "provenance": [],
      "authorship_tag": "ABX9TyPsNlslrx7sCJZSe/06HdHy",
      "include_colab_link": true
    },
    "kernelspec": {
      "name": "python3",
      "display_name": "Python 3"
    },
    "language_info": {
      "name": "python"
    }
  },
  "cells": [
    {
      "cell_type": "markdown",
      "metadata": {
        "id": "view-in-github",
        "colab_type": "text"
      },
      "source": [
        "<a href=\"https://colab.research.google.com/github/jinsusong/tensorflow/blob/main/Study01.ipynb\" target=\"_parent\"><img src=\"https://colab.research.google.com/assets/colab-badge.svg\" alt=\"Open In Colab\"/></a>"
      ]
    },
    {
      "cell_type": "markdown",
      "metadata": {
        "id": "M_O0zwVtPDOy"
      },
      "source": [
        "# 텐서플로2와 머신러닝으로 시작하는 자연어 처리 \n",
        "## 로지스틱 회귀부터 BERT와 GPT2 까지\n"
      ]
    },
    {
      "cell_type": "markdown",
      "metadata": {
        "id": "QWVG4MK3S73M"
      },
      "source": [
        "Sequential API로 간단한 모델 만드는 법 "
      ]
    },
    {
      "cell_type": "code",
      "metadata": {
        "id": "PSzmCwiVPT2l"
      },
      "source": [
        "# Sequential API로 간단한 모델 만드는 법 \n",
        "import tensorflow as tf\n",
        "from tensorflow.keras import layers\n",
        "\n",
        "model = tf.keras.Sequential()\n",
        "model.add(layers.Dense(64,activation='relu'))\n",
        "model.add(layers.Dense(64,activation='relu'))\n",
        "model.add(layers.Dense(10,activation='softmax'))\n",
        "\n",
        "# Sequential인스턴스를 생성한 후 여러 레이어를 순차적으로 더하기만 하면 모델 완성\n",
        "\n",
        "#모델의 층들이 순차적으로 구성되어 있지 않은 모델을 구현하기에는 부적합함\n",
        "\n"
      ],
      "execution_count": null,
      "outputs": []
    },
    {
      "cell_type": "markdown",
      "metadata": {
        "id": "B_7XNj7ARF4J"
      },
      "source": [
        "Function API로 간단한 모델 만드는법"
      ]
    },
    {
      "cell_type": "code",
      "metadata": {
        "id": "RlJy18yYPkR3"
      },
      "source": [
        "import tensorflow as tf\n",
        "from tensorflow.keras import layers\n",
        "# Function API로 간단한 모델 만드는법\n",
        "inputs = tf.keras.Input(shape=(32,))\n",
        "x = layers.Dense(64, activation='relu')(inputs)\n",
        "x = layers.Dense(64, activation='relu')(x)\n",
        "predictions =layers.Dense(10, activation='softmax')(x)\n"
      ],
      "execution_count": null,
      "outputs": []
    },
    {
      "cell_type": "markdown",
      "metadata": {
        "id": "Rn2PtxtsSzXH"
      },
      "source": [
        "Custom Layer 사용하는법"
      ]
    },
    {
      "cell_type": "code",
      "metadata": {
        "id": "MA3M50TDS5kF"
      },
      "source": [
        "class CustomLayer(layers.Layer):\n",
        "    def __init__(self, hidden_dimension, hidden_dimension2, output_dimension):\n",
        "        self.hidden_dimension = hidden_dimension\n",
        "        self.hidden_dimension2 = hidden_dimension2\n",
        "        self.output_dimension = output_dimension\n",
        "        super(CustomLayer, self).__init__()\n",
        "\n",
        "    def build(self, input_shape):\n",
        "        self.dense_layer1 = layers.Dense(self.hidden_dimension, activation = 'relu')\n",
        "        self.dense_layer2 = layers.Dense(self.hidden_dimension2, activation = 'relu')\n",
        "        self.dense_layer3 = layers.Dense(self. output_dimension, activation='softmax')\n",
        "\n",
        "    def call(self, inputs):\n",
        "        x = self.dense_layer1(inputs)\n",
        "        x = self.dense_layer2(x)\n",
        "\n",
        "        return self.dense_layer3(x)\n"
      ],
      "execution_count": null,
      "outputs": []
    },
    {
      "cell_type": "markdown",
      "metadata": {
        "id": "YXDlXgeXTx-x"
      },
      "source": [
        "Subclassing(Custom Model)"
      ]
    },
    {
      "cell_type": "code",
      "metadata": {
        "id": "St_J3RJPULsB"
      },
      "source": [
        "# keras.Model을 상속받고 모델 내부 연산들을 직접 구현하면 됨 \n",
        "class MyModel(tf.keras.Model):\n",
        "    def __init__(self, hidden_dimension, hidden_dimension2, output_dimension):\n",
        "        super(MyModel, self).__init__(name='my model')\n",
        "        self.dense_layer1 = layers.Dense(hidden_dimension, activation = 'relu')\n",
        "        self.dense_layer2 = layers.Dense(hidden_dimension2, activation='relu')\n",
        "        self.dense_layer3 = layers.Dense(output_dimension, activation = 'softmax')\n",
        "\n",
        "    def call(self, inputs):\n",
        "        x = self.dense_layer1(inputs)\n",
        "        x = self.dense_layer2(x)\n",
        "\n",
        "        return self.dense_layer3(x)\n",
        "\n",
        "# init 메서드에서 모델에 사용될 층과 변수를 정의하면 되고, call 메소드에서 모델 연산을 진행\n",
        "\n"
      ],
      "execution_count": null,
      "outputs": []
    },
    {
      "cell_type": "markdown",
      "metadata": {
        "id": "5k2f8LPsmA81"
      },
      "source": [
        "모델 학습 "
      ]
    },
    {
      "cell_type": "markdown",
      "metadata": {
        "id": "OxQl2N5WmDhk"
      },
      "source": [
        "텐서플로우가 모델 학습에 대해 권장하는 방법은 크게 두 가지 \n",
        "1. 케라스 모델의 내장 API를 활용 \n",
        "2. 학습, 검증, 예측 등 모든 과정을 GradientTape 객체를 활용해 직접 구현하는 방법\n",
        "\n"
      ]
    },
    {
      "cell_type": "markdown",
      "metadata": {
        "id": "49DHMk4NmQMU"
      },
      "source": [
        "내장 API 활용하기 "
      ]
    },
    {
      "cell_type": "markdown",
      "metadata": {
        "id": "aSVdHFqdmYbf"
      },
      "source": [
        "1. 학습 과정 정의하기 \n",
        "학습 과정에서 사용될 손실 함수 , 옵티마이저, 평가 지표 등을 정의 \n",
        "\n"
      ]
    },
    {
      "cell_type": "code",
      "metadata": {
        "id": "fz48hfn7mqyc"
      },
      "source": [
        "model.compile(optimizer=tf.keras.optimizers.Adam(),\n",
        "              loss=tf.keras.losses.CategoricalCrossentropy(),\n",
        "              metrics=[tf.keras.metrics.Accuracy()]\n",
        "              )\n"
      ],
      "execution_count": null,
      "outputs": []
    },
    {
      "cell_type": "markdown",
      "metadata": {
        "id": "wq_oeI0-m88h"
      },
      "source": [
        "2. 정의된 모델 객체를 대상으로 학습, 평가, 예측 메서드를 호출하면 정의한 값들을 활용해 학습이 진행됨\n"
      ]
    },
    {
      "cell_type": "code",
      "metadata": {
        "id": "_LmWsEnhoJ-_"
      },
      "source": [
        "model.fit(x_train, y_train,\n",
        "          batch_size=64,\n",
        "          epochs=3)\n"
      ],
      "execution_count": null,
      "outputs": []
    },
    {
      "cell_type": "code",
      "metadata": {
        "id": "PShpChP8oPsQ"
      },
      "source": [
        ""
      ],
      "execution_count": null,
      "outputs": []
    }
  ]
}
