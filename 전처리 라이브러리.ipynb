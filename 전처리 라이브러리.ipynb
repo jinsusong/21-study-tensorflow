{
  "nbformat": 4,
  "nbformat_minor": 0,
  "metadata": {
    "colab": {
      "name": "tensorflow.ipynb",
      "private_outputs": true,
      "provenance": [],
      "authorship_tag": "ABX9TyMk9ThKtmNhm1FDKDQ3NrP4",
      "include_colab_link": true
    },
    "kernelspec": {
      "name": "python3",
      "display_name": "Python 3"
    },
    "language_info": {
      "name": "python"
    },
    "accelerator": "GPU"
  },
  "cells": [
    {
      "cell_type": "markdown",
      "metadata": {
        "id": "view-in-github",
        "colab_type": "text"
      },
      "source": [
        "<a href=\"https://colab.research.google.com/github/jinsusong/21-study-tensorflow/blob/main/%EC%A0%84%EC%B2%98%EB%A6%AC%20%EB%9D%BC%EC%9D%B4%EB%B8%8C%EB%9F%AC%EB%A6%AC.ipynb\" target=\"_parent\"><img src=\"https://colab.research.google.com/assets/colab-badge.svg\" alt=\"Open In Colab\"/></a>"
      ]
    },
    {
      "cell_type": "markdown",
      "metadata": {
        "id": "M_O0zwVtPDOy"
      },
      "source": [
        "# 텐서플로2와 머신러닝으로 시작하는 자연어 처리 \n",
        "## 로지스틱 회귀부터 BERT와 GPT2 까지\n"
      ]
    },
    {
      "cell_type": "markdown",
      "metadata": {
        "id": "QWVG4MK3S73M"
      },
      "source": [
        "### 전처리 라이브러리"
      ]
    },
    {
      "cell_type": "markdown",
      "metadata": {
        "id": "jvSdv1fPkOZH"
      },
      "source": [
        "1. numpy\n",
        "2. pandas\n",
        "3. matplotlib\n",
        "4. Re\n",
        "5. Beautiful Soup\n"
      ]
    },
    {
      "cell_type": "code",
      "metadata": {
        "id": "NlBYajkT1hKf"
      },
      "source": [
        "import numpy as np\n",
        "a = np.array([1,2,3])\n",
        "print(a)"
      ],
      "execution_count": null,
      "outputs": []
    },
    {
      "cell_type": "markdown",
      "metadata": {
        "id": "pKZB5NlxDAPI"
      },
      "source": [
        "판다스 \n",
        " - 세 가지 데이터 구조 \n",
        " - 시리즈 (Series)\n",
        " - 데이터프레임(DataFrame)\n",
        " - 패널(Panel)"
      ]
    },
    {
      "cell_type": "markdown",
      "metadata": {
        "id": "23osO6azF3Gy"
      },
      "source": [
        "re 함수"
      ]
    },
    {
      "cell_type": "code",
      "metadata": {
        "id": "SZPJ7sH0FuAQ"
      },
      "source": [
        "import re\n"
      ],
      "execution_count": null,
      "outputs": []
    },
    {
      "cell_type": "markdown",
      "metadata": {
        "id": "N_M1iwtTz-I8"
      },
      "source": [
        "```\n",
        "patten = ' \\W+'\n",
        "re_pattern = re.compile(pattern)\n",
        "```\n",
        "\n",
        "\n",
        "\n",
        "\n",
        "compile 함수는 특정 기호를 정규 표현식 객체로 만들어줌 \n",
        "\n"
      ]
    },
    {
      "cell_type": "markdown",
      "metadata": {
        "id": "Fj3Eh3UA0hu9"
      },
      "source": [
        "```re.search( \"(\\w+)\", \" wow, it is awesome\")```\n",
        "\n",
        "\n",
        "\n",
        "search 함수는 해당 문자열에서 정규표현식에 해당하는 첫 부분을 찾는다. "
      ]
    },
    {
      "cell_type": "markdown",
      "metadata": {
        "id": "-bAfqzk70zWl"
      },
      "source": [
        "re.split 함수는 해당 문자열에서 특정 패턴으로 문자열을 나눠서 리스트로 만듬 "
      ]
    },
    {
      "cell_type": "markdown",
      "metadata": {
        "id": "z6-b71l61eY2"
      },
      "source": [
        "re.sub함수는 문자열에서 특정 패턴을 만족시키는 문자를 사용자가 정의한 문자로 치환한다. "
      ]
    },
    {
      "cell_type": "code",
      "metadata": {
        "id": "b_kRGaOS1jPO"
      },
      "source": [
        ""
      ],
      "execution_count": null,
      "outputs": []
    }
  ]
}