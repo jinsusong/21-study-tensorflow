{
  "nbformat": 4,
  "nbformat_minor": 0,
  "metadata": {
    "colab": {
      "name": "tensorflow.ipynb",
      "private_outputs": true,
      "provenance": [],
      "authorship_tag": "ABX9TyMRJAb73wf1IQIGYadkJbQ/",
      "include_colab_link": true
    },
    "kernelspec": {
      "name": "python3",
      "display_name": "Python 3"
    },
    "language_info": {
      "name": "python"
    }
  },
  "cells": [
    {
      "cell_type": "markdown",
      "metadata": {
        "id": "view-in-github",
        "colab_type": "text"
      },
      "source": [
        "<a href=\"https://colab.research.google.com/github/jinsusong/21-study-tensorflow/blob/main/%EC%98%81%EC%96%B4%20%ED%85%8D%EC%8A%A4%ED%8A%B8%20%EB%B6%84%EB%A5%98.ipynb\" target=\"_parent\"><img src=\"https://colab.research.google.com/assets/colab-badge.svg\" alt=\"Open In Colab\"/></a>"
      ]
    },
    {
      "cell_type": "markdown",
      "metadata": {
        "id": "M_O0zwVtPDOy"
      },
      "source": [
        "## 텐서플로2와 머신러닝으로 시작하는 자연어 처리 \n",
        "### 로지스틱 회귀부터 BERT와 GPT2 까지\n"
      ]
    },
    {
      "cell_type": "markdown",
      "metadata": {
        "id": "QWVG4MK3S73M"
      },
      "source": [
        "### 텍스트 분류\n",
        "\n"
      ]
    },
    {
      "cell_type": "markdown",
      "metadata": {
        "id": "jvSdv1fPkOZH"
      },
      "source": [
        ": 영어 텍스트 분류 , 한글 텍스트 분류 샘플 \n",
        "- 감정분석  \n",
        "- 해당 모델을 통해 새로운 리뷰가 긍정적인 리뷰인지 부정적인 리뷰인지 예측\n",
        "\n",
        ": 데이터 이름 : Bag Words Meets Bags of Popcorn\n",
        ": 데이터 용도 : 텍스트 분류 학습을 목적으로 사용\n",
        ": 데이터 권한 : MIT 권한을 가지고 있으나 캐글에 가입한 후 사용하길 권장\n",
        "\n",
        "\n",
        "\n"
      ]
    },
    {
      "cell_type": "markdown",
      "source": [
        "워드 팝콘 : 영화 데이터베이스에서 나온 영화 평점 데이터를 활용한 캐글 문제 \n",
        "\n",
        "목표 \n",
        "1. 데이터 불러오기 , 전터리하기 \n",
        "2. 데이터 분석하기 \n",
        "3. 문제 해결을 위한 알고리즘 모델링 "
      ],
      "metadata": {
        "id": "RrPwDU2vDQx1"
      }
    },
    {
      "cell_type": "code",
      "source": [
        "import numpy as np\n",
        "import pandas as pd\n",
        "import os\n",
        "import matplotlib.pyplot as plt\n",
        "import seaborn as sns\n",
        "%matplotlib inline\n"
      ],
      "metadata": {
        "id": "dViIpwB_b35r"
      },
      "execution_count": null,
      "outputs": []
    },
    {
      "cell_type": "code",
      "source": [
        "from google.colab import files\n",
        "\n",
        "uploaded = files.upload() \n",
        "\n",
        "for fn in uploaded.keys():\n",
        "    print('User uploaded file \"{name}\" with length {length} bytes'.format(name=fn, length=len(uploaded[fn])))\n"
      ],
      "metadata": {
        "id": "rShd4vrkcZG0"
      },
      "execution_count": null,
      "outputs": []
    },
    {
      "cell_type": "markdown",
      "source": [
        "데이터 불러오기"
      ],
      "metadata": {
        "id": "kViQ0ETGkV6V"
      }
    },
    {
      "cell_type": "code",
      "source": [
        "import pandas as pd\n",
        "import io\n",
        "train_data = pd.read_csv(io.StringIO(uploaded['labeledTrainData.tsv'].decode('utf-8')), header=0, delimiter=\"\\t\",quoting=3)\n",
        "print(df)"
      ],
      "metadata": {
        "id": "PwDpRiiHffFW"
      },
      "execution_count": null,
      "outputs": []
    },
    {
      "cell_type": "code",
      "source": [
        "train_data.head()"
      ],
      "metadata": {
        "id": "uTheAnsdf-Jl"
      },
      "execution_count": null,
      "outputs": []
    },
    {
      "cell_type": "markdown",
      "source": [
        "데이터분석 진행 \n",
        " - 데이터 크기 \n",
        " - 데이터의 개수 \n",
        " - 각 리뷰의 문자 길이 분포\n",
        " - 많이 사용된 단어\n",
        " - 긍정, 부정 데이터의 분포 \n",
        " - 각 리뷰의 단어 개수 분포\n",
        " - 특수문자 및 대문자, 소문자 비율\n",
        " \n"
      ],
      "metadata": {
        "id": "Yik6msF9kNO-"
      }
    },
    {
      "cell_type": "code",
      "source": [
        "print(\"파일 크기 : \")\n",
        "for file in os.listdir():\n",
        "    if 'tsv' in file and 'zip' not in file:\n",
        "        print(file.ljust(30) + str(round(os.path.getsize(file)/1000000,2))+ 'MB')\n",
        "        "
      ],
      "metadata": {
        "id": "IhQLLPuMkYo-"
      },
      "execution_count": null,
      "outputs": []
    },
    {
      "cell_type": "code",
      "source": [
        "print('전체 학습 데이터의 개수 : {}'.format(len(train_data)))\n"
      ],
      "metadata": {
        "id": "VuN-arUqlKY9"
      },
      "execution_count": null,
      "outputs": []
    },
    {
      "cell_type": "markdown",
      "source": [
        "리뷰 데이터 길이 확인"
      ],
      "metadata": {
        "id": "pYar_shuladm"
      }
    },
    {
      "cell_type": "code",
      "source": [
        "train_length = train_data['review'].apply(len)\n",
        "train_length.head()"
      ],
      "metadata": {
        "id": "EjqUl8u-mMPr"
      },
      "execution_count": null,
      "outputs": []
    },
    {
      "cell_type": "markdown",
      "source": [
        "리뷰의 길이 변수를 통해 히스토그램 그리기 "
      ],
      "metadata": {
        "id": "HP6zAbqWmRNc"
      }
    },
    {
      "cell_type": "code",
      "source": [
        "plt.figure(figsize=(12,5))\n",
        "plt.hist(train_length, bins=200, alpha=0.5, color='r', label='word')\n",
        "plt.yscale('log',nonposy='clip')\n",
        "plt.title ('Log Histogram of length of review')\n",
        "plt.xlabel('Length of review')\n",
        "plt.ylabel('Number of review')"
      ],
      "metadata": {
        "id": "V5--YdyrnK-0"
      },
      "execution_count": null,
      "outputs": []
    },
    {
      "cell_type": "markdown",
      "source": [
        "리뷰 길이에 대한 통계값 확인하기 \n"
      ],
      "metadata": {
        "id": "9ANvwCvhniF9"
      }
    },
    {
      "cell_type": "code",
      "source": [
        "print('리뷰 길이 최댓값 : {}'.format(np.max(train_length)))\n",
        "print('리뷰 길이 최솟값 : {}'.format(np.min(train_length)))\n",
        "print('리뷰 길이 평균값 : {:.2f}'.format(np.mean(train_length)))\n",
        "print('리뷰 길이 표준편차 : {:.2f}'.format(np.std(train_length)))\n",
        "print('리뷰 길이 중간값 : {}'.format(np.median(train_length)))\n",
        "\n",
        "print('리뷰 길이 제 1사분위 : {}'.format(np.percentile(train_length,25)))\n",
        "print('리뷰 길이 제 3사분위 : {}'.format(np.percentile(train_length,75)))"
      ],
      "metadata": {
        "id": "xRJlvxVwnvLJ"
      },
      "execution_count": null,
      "outputs": []
    },
    {
      "cell_type": "markdown",
      "source": [
        "박스 플롯 그리기 "
      ],
      "metadata": {
        "id": "G9EsPap7oV7W"
      }
    },
    {
      "cell_type": "code",
      "source": [
        "plt.figure(figsize=(12,5))\n",
        "plt.boxplot(train_length,\n",
        "            labels=['counts'],\n",
        "            showmeans=True)"
      ],
      "metadata": {
        "id": "u3MNf_VTobxh"
      },
      "execution_count": null,
      "outputs": []
    },
    {
      "cell_type": "markdown",
      "source": [
        "리뷰에 많이 사용된 단어 워드클라우드로 확인하기"
      ],
      "metadata": {
        "id": "Sg46uy3sol9W"
      }
    },
    {
      "cell_type": "code",
      "source": [
        "#!pip install wordcloud\n",
        "from wordcloud import WordCloud\n",
        "cloud = WordCloud(width=800, height=600).generate(\" \".join(train_data['review']))\n",
        "plt.figure(figsize=(20,15))\n",
        "plt.imshow(cloud)\n",
        "plt.axis('off')\n",
        "\n",
        "\n",
        "\n",
        "\n",
        "\n",
        "\n",
        "\n",
        "\n",
        "\n",
        "\n"
      ],
      "metadata": {
        "id": "Hqy0DWBco0DN"
      },
      "execution_count": null,
      "outputs": []
    },
    {
      "cell_type": "markdown",
      "source": [
        "라벨의 분포를 확인해본다. "
      ],
      "metadata": {
        "id": "ybwMXS2ipGYv"
      }
    },
    {
      "cell_type": "code",
      "source": [
        "fig, axe = plt.subplots(ncols=1)\n",
        "fig.set_size_inches(6,3)\n",
        "sns.countplot(train_data['sentiment'])"
      ],
      "metadata": {
        "id": "DA3qioTpsUwV"
      },
      "execution_count": null,
      "outputs": []
    },
    {
      "cell_type": "code",
      "source": [
        "print('긍정 리뷰 개수 : {}'.format(train_data['sentiment'].value_counts()[1]))\n",
        "print('부정 리뷰 개수 : {}'.format(train_data['sentiment'].value_counts()[0]))\n"
      ],
      "metadata": {
        "id": "5XQnclLlsb2d"
      },
      "execution_count": null,
      "outputs": []
    },
    {
      "cell_type": "markdown",
      "source": [
        "이제 각 리뷰를 단어 기준으로 나눠서 각 리뷰당 단어의 개수를 확인한다. \n",
        "단어는 띄어쓰기 기준으로 하나의 단어라 생각하고 개수를 계산한다. \n"
      ],
      "metadata": {
        "id": "8M8EMgEYssn3"
      }
    },
    {
      "cell_type": "code",
      "source": [
        ""
      ],
      "metadata": {
        "id": "ubvhoj1otCti"
      },
      "execution_count": null,
      "outputs": []
    }
  ]
}